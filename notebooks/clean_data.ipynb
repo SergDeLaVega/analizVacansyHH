{
 "cells": [
  {
   "cell_type": "markdown",
   "id": "a4bd5bf5-033a-4fb1-a5e7-d7ddea77eb58",
   "metadata": {},
   "source": [
    "<h2>Оценка качества данных</h2>\n",
    "<h4>Задачи:</h4>\n",
    "<p>Общая оценка датасета</p>\n",
    "<p>Так как api hh.ru отбирает вакансии не по названию, а по вхождению запроса в описание вакансии, необходимо отсортировать датасэт для дальнейшей аналитике именно по вакансиям 'Аналитик данных', так как у нас получился более широкий датасэт</p>\n",
    "<p>Проверьте наличие пропущенных значений.</p>\n",
    "<p>Оцените типы данных в столбцах и их соответствие содержимому.</p>\n",
    "<p>Поиск дубликатов.</p>\n",
    "<p>Анализ уникальности значений в ключевых столбцах.</p>"
   ]
  },
  {
   "cell_type": "code",
   "execution_count": 1,
   "id": "62bddf9e-0a97-4012-8f6a-5c67bf724c2e",
   "metadata": {},
   "outputs": [],
   "source": [
    "import pandas as pd\n",
    "# Загрузите данные из файла Excel\n",
    "df = pd.read_excel('../data/raw/vacancies.xlsx')"
   ]
  },
  {
   "cell_type": "code",
   "execution_count": 2,
   "id": "79ade049-ceba-46cf-bcf5-d01b660a989d",
   "metadata": {},
   "outputs": [
    {
     "name": "stdout",
     "output_type": "stream",
     "text": [
      "<class 'pandas.core.frame.DataFrame'>\n",
      "RangeIndex: 6000 entries, 0 to 5999\n",
      "Data columns (total 15 columns):\n",
      " #   Column                  Non-Null Count  Dtype  \n",
      "---  ------                  --------------  -----  \n",
      " 0   id                      6000 non-null   int64  \n",
      " 1   name                    6000 non-null   object \n",
      " 2   area                    6000 non-null   object \n",
      " 3   salary                  1910 non-null   float64\n",
      " 4   valuta                  1910 non-null   object \n",
      " 5   alternate_url           6000 non-null   object \n",
      " 6   employer_name           6000 non-null   object \n",
      " 7   snippet_requirement     5978 non-null   object \n",
      " 8   snippet_responsibility  5980 non-null   object \n",
      " 9   schedule                6000 non-null   object \n",
      " 10  working_time_intervals  56 non-null     object \n",
      " 11  professional_roles      6000 non-null   object \n",
      " 12  experience              6000 non-null   object \n",
      " 13  employment              6000 non-null   object \n",
      " 14  published_at            6000 non-null   object \n",
      "dtypes: float64(1), int64(1), object(13)\n",
      "memory usage: 703.3+ KB\n"
     ]
    }
   ],
   "source": [
    "# Просмотр информации о DataFrame\n",
    "df.info()"
   ]
  },
  {
   "cell_type": "code",
   "execution_count": 3,
   "id": "7375b61e-b31d-404f-9f86-39cd8af9072f",
   "metadata": {},
   "outputs": [
    {
     "data": {
      "text/html": [
       "<div>\n",
       "<style scoped>\n",
       "    .dataframe tbody tr th:only-of-type {\n",
       "        vertical-align: middle;\n",
       "    }\n",
       "\n",
       "    .dataframe tbody tr th {\n",
       "        vertical-align: top;\n",
       "    }\n",
       "\n",
       "    .dataframe thead th {\n",
       "        text-align: right;\n",
       "    }\n",
       "</style>\n",
       "<table border=\"1\" class=\"dataframe\">\n",
       "  <thead>\n",
       "    <tr style=\"text-align: right;\">\n",
       "      <th></th>\n",
       "      <th>id</th>\n",
       "      <th>name</th>\n",
       "      <th>area</th>\n",
       "      <th>salary</th>\n",
       "      <th>valuta</th>\n",
       "      <th>alternate_url</th>\n",
       "      <th>employer_name</th>\n",
       "      <th>snippet_requirement</th>\n",
       "      <th>snippet_responsibility</th>\n",
       "      <th>schedule</th>\n",
       "      <th>working_time_intervals</th>\n",
       "      <th>professional_roles</th>\n",
       "      <th>experience</th>\n",
       "      <th>employment</th>\n",
       "      <th>published_at</th>\n",
       "    </tr>\n",
       "  </thead>\n",
       "  <tbody>\n",
       "    <tr>\n",
       "      <th>0</th>\n",
       "      <td>103492205</td>\n",
       "      <td>Заместитель генерального директора по продажам</td>\n",
       "      <td>Москва</td>\n",
       "      <td>NaN</td>\n",
       "      <td>NaN</td>\n",
       "      <td>https://hh.ru/vacancy/103492205</td>\n",
       "      <td>PeptidPro</td>\n",
       "      <td>Хороший уровень понимания тонкостей составлени...</td>\n",
       "      <td>Обеспечение роста выручки и операционной прибы...</td>\n",
       "      <td>Полный день</td>\n",
       "      <td>NaN</td>\n",
       "      <td>Коммерческий директор (CCO)</td>\n",
       "      <td>От 3 до 6 лет</td>\n",
       "      <td>Полная занятость</td>\n",
       "      <td>2024-07-08T11:53:25+0300</td>\n",
       "    </tr>\n",
       "    <tr>\n",
       "      <th>1</th>\n",
       "      <td>102940512</td>\n",
       "      <td>Менеджер проектов / Project manager МТС</td>\n",
       "      <td>Москва</td>\n",
       "      <td>100000.0</td>\n",
       "      <td>RUR</td>\n",
       "      <td>https://hh.ru/vacancy/102940512</td>\n",
       "      <td>Changellenge</td>\n",
       "      <td>...процессы и работать с большим объемом &lt;high...</td>\n",
       "      <td>Погрузиться в специфику создания и улучшения в...</td>\n",
       "      <td>Полный день</td>\n",
       "      <td>NaN</td>\n",
       "      <td>Другое</td>\n",
       "      <td>От 1 года до 3 лет</td>\n",
       "      <td>Полная занятость</td>\n",
       "      <td>2024-06-28T17:30:36+0300</td>\n",
       "    </tr>\n",
       "    <tr>\n",
       "      <th>2</th>\n",
       "      <td>102927044</td>\n",
       "      <td>Продуктовый аналитик</td>\n",
       "      <td>Москва</td>\n",
       "      <td>80000.0</td>\n",
       "      <td>RUR</td>\n",
       "      <td>https://hh.ru/vacancy/102927044</td>\n",
       "      <td>Changellenge</td>\n",
       "      <td>Понимание SQL и его диалектов. Опыт работы с E...</td>\n",
       "      <td>Участвовать в развитии продукта. Анализировать...</td>\n",
       "      <td>Полный день</td>\n",
       "      <td>NaN</td>\n",
       "      <td>Продуктовый аналитик</td>\n",
       "      <td>Нет опыта</td>\n",
       "      <td>Полная занятость</td>\n",
       "      <td>2024-06-28T14:26:16+0300</td>\n",
       "    </tr>\n",
       "    <tr>\n",
       "      <th>3</th>\n",
       "      <td>103321160</td>\n",
       "      <td>Главный Бухгалтер с функциями Финансового Дире...</td>\n",
       "      <td>Москва</td>\n",
       "      <td>340000.0</td>\n",
       "      <td>RUR</td>\n",
       "      <td>https://hh.ru/vacancy/103321160</td>\n",
       "      <td>Cfoclub (ИП Валуев Кирилл Владимирович)</td>\n",
       "      <td>Опыт настройки управленческого учета. Глубокие...</td>\n",
       "      <td>Организация финансового, налогового и управлен...</td>\n",
       "      <td>Полный день</td>\n",
       "      <td>NaN</td>\n",
       "      <td>Финансовый директор (CFO)</td>\n",
       "      <td>Более 6 лет</td>\n",
       "      <td>Полная занятость</td>\n",
       "      <td>2024-07-04T22:11:45+0300</td>\n",
       "    </tr>\n",
       "    <tr>\n",
       "      <th>4</th>\n",
       "      <td>101662103</td>\n",
       "      <td>Аналитик данных / DS (SolarCloud)</td>\n",
       "      <td>Москва</td>\n",
       "      <td>NaN</td>\n",
       "      <td>NaN</td>\n",
       "      <td>https://hh.ru/vacancy/101662103</td>\n",
       "      <td>Солар</td>\n",
       "      <td>Уверенное знание Python. Самостоятельность и ж...</td>\n",
       "      <td>Подготовка исследований и поиск наилучших подх...</td>\n",
       "      <td>Удаленная работа</td>\n",
       "      <td>NaN</td>\n",
       "      <td>Дата-сайентист</td>\n",
       "      <td>От 1 года до 3 лет</td>\n",
       "      <td>Полная занятость</td>\n",
       "      <td>2024-06-10T17:32:53+0300</td>\n",
       "    </tr>\n",
       "  </tbody>\n",
       "</table>\n",
       "</div>"
      ],
      "text/plain": [
       "          id                                               name    area  \\\n",
       "0  103492205     Заместитель генерального директора по продажам  Москва   \n",
       "1  102940512            Менеджер проектов / Project manager МТС  Москва   \n",
       "2  102927044                               Продуктовый аналитик  Москва   \n",
       "3  103321160  Главный Бухгалтер с функциями Финансового Дире...  Москва   \n",
       "4  101662103                  Аналитик данных / DS (SolarCloud)  Москва   \n",
       "\n",
       "     salary valuta                    alternate_url  \\\n",
       "0       NaN    NaN  https://hh.ru/vacancy/103492205   \n",
       "1  100000.0    RUR  https://hh.ru/vacancy/102940512   \n",
       "2   80000.0    RUR  https://hh.ru/vacancy/102927044   \n",
       "3  340000.0    RUR  https://hh.ru/vacancy/103321160   \n",
       "4       NaN    NaN  https://hh.ru/vacancy/101662103   \n",
       "\n",
       "                             employer_name  \\\n",
       "0                                PeptidPro   \n",
       "1                             Changellenge   \n",
       "2                             Changellenge   \n",
       "3  Cfoclub (ИП Валуев Кирилл Владимирович)   \n",
       "4                                    Солар   \n",
       "\n",
       "                                 snippet_requirement  \\\n",
       "0  Хороший уровень понимания тонкостей составлени...   \n",
       "1  ...процессы и работать с большим объемом <high...   \n",
       "2  Понимание SQL и его диалектов. Опыт работы с E...   \n",
       "3  Опыт настройки управленческого учета. Глубокие...   \n",
       "4  Уверенное знание Python. Самостоятельность и ж...   \n",
       "\n",
       "                              snippet_responsibility          schedule  \\\n",
       "0  Обеспечение роста выручки и операционной прибы...       Полный день   \n",
       "1  Погрузиться в специфику создания и улучшения в...       Полный день   \n",
       "2  Участвовать в развитии продукта. Анализировать...       Полный день   \n",
       "3  Организация финансового, налогового и управлен...       Полный день   \n",
       "4  Подготовка исследований и поиск наилучших подх...  Удаленная работа   \n",
       "\n",
       "  working_time_intervals           professional_roles          experience  \\\n",
       "0                    NaN  Коммерческий директор (CCO)       От 3 до 6 лет   \n",
       "1                    NaN                       Другое  От 1 года до 3 лет   \n",
       "2                    NaN         Продуктовый аналитик           Нет опыта   \n",
       "3                    NaN    Финансовый директор (CFO)         Более 6 лет   \n",
       "4                    NaN               Дата-сайентист  От 1 года до 3 лет   \n",
       "\n",
       "         employment              published_at  \n",
       "0  Полная занятость  2024-07-08T11:53:25+0300  \n",
       "1  Полная занятость  2024-06-28T17:30:36+0300  \n",
       "2  Полная занятость  2024-06-28T14:26:16+0300  \n",
       "3  Полная занятость  2024-07-04T22:11:45+0300  \n",
       "4  Полная занятость  2024-06-10T17:32:53+0300  "
      ]
     },
     "execution_count": 3,
     "metadata": {},
     "output_type": "execute_result"
    }
   ],
   "source": [
    "df.head()"
   ]
  },
  {
   "cell_type": "code",
   "execution_count": 4,
   "id": "e2cfe2f8-e7c4-4b22-8e7a-c4b4702f3bf5",
   "metadata": {},
   "outputs": [],
   "source": [
    "# Сортируем вакансии по названию\n",
    "sorted_df = df.sort_values('name', ascending=True)"
   ]
  },
  {
   "cell_type": "code",
   "execution_count": 5,
   "id": "1e5ca701-5baa-4c6a-8fa3-fc56553c317e",
   "metadata": {},
   "outputs": [],
   "source": [
    "# Фильтруйем только те строки, где в названии вакансий встречается \"аналитик данных\"\n",
    "#Выбор зависит от регистра букв, поэтому приводим и строки, и фильтрующее значение к нижнему регистру\n",
    "df = sorted_df[sorted_df['name'].str.lower().str.contains('аналитик данных')]\n"
   ]
  },
  {
   "cell_type": "code",
   "execution_count": 6,
   "id": "6697418d-5788-4e28-83df-d2616a4affa3",
   "metadata": {},
   "outputs": [
    {
     "name": "stdout",
     "output_type": "stream",
     "text": [
      "Дубликаты: 0\n"
     ]
    }
   ],
   "source": [
    "# Проверка на наличие дубликатов\n",
    "duplicate = df.duplicated().sum()\n",
    "print(\"Дубликаты:\", df.duplicated().sum())\n",
    "if duplicate:\n",
    "    # Нахождение дубликатов (отмечаем все вхождения дубликатов)\n",
    "    duplicates_mask = df.duplicated(keep=False)\n",
    "    # Вывод дубликатов\n",
    "    duplicates = df[duplicates_mask]\n",
    "    print(duplicates)\n",
    "    # Удаление дубликатов из DataFrame\n",
    "    df = df.drop_duplicates()\n",
    "    # Сброс индекса после удаления\n",
    "    df = df.reset_index(drop=True)\n",
    "    # Повторная проверка на наличие дубликатов\n",
    "    print(\"Дубликаты после удаления:\", df.duplicated().sum())"
   ]
  },
  {
   "cell_type": "code",
   "execution_count": 7,
   "id": "dda1ef86-1588-4d46-93af-b6e0e8884d68",
   "metadata": {},
   "outputs": [
    {
     "name": "stdout",
     "output_type": "stream",
     "text": [
      "Количество пропущенных значений по столбцам:\n",
      "id                          0\n",
      "name                        0\n",
      "area                        0\n",
      "salary                    120\n",
      "valuta                    120\n",
      "alternate_url               0\n",
      "employer_name               0\n",
      "snippet_requirement         1\n",
      "snippet_responsibility      1\n",
      "schedule                    0\n",
      "working_time_intervals    161\n",
      "professional_roles          0\n",
      "experience                  0\n",
      "employment                  0\n",
      "published_at                0\n",
      "dtype: int64\n"
     ]
    }
   ],
   "source": [
    "# Проверка на наличие пропущенных значений в каждом столбце\n",
    "missing_values_count = df.isnull().sum()\n",
    "# Вывод количества пропущенных значений по каждому столбцу\n",
    "print(\"Количество пропущенных значений по столбцам:\")\n",
    "print(missing_values_count)"
   ]
  },
  {
   "cell_type": "code",
   "execution_count": 8,
   "id": "fdb2eff3-9098-4204-9a09-39067d0c6ff1",
   "metadata": {},
   "outputs": [
    {
     "name": "stdout",
     "output_type": "stream",
     "text": [
      "\n",
      "Распределение данных в категориальном столбце 'valuta':\n",
      "valuta\n",
      "RUR    41\n",
      "Name: count, dtype: int64\n"
     ]
    }
   ],
   "source": [
    "# Проверяем, есть ли в столбце 'valuta' значения 'USD'\n",
    "if 'USD' in df['valuta'].unique():\n",
    "    # Находим индекс строки с зарплатой в долларах\n",
    "    usd_index = df[df['valuta'] == 'USD'].index\n",
    "    # Курс доллара к рублю\n",
    "    exchange_rate = 85\n",
    "    # Конвертируем зарплату из долларов в рубли\n",
    "    df.loc[usd_index, 'salary'] = df.loc[usd_index, 'salary'] * exchange_rate\n",
    "    # Обновляем валюту в рубли\n",
    "    df.loc[usd_index, 'valuta'] = 'RUR'\n",
    "\n",
    "\n",
    "print(\"\\nРаспределение данных в категориальном столбце 'valuta':\")\n",
    "print(df['valuta'].value_counts())"
   ]
  },
  {
   "cell_type": "code",
   "execution_count": 9,
   "id": "5c1b6e2b-87dd-494f-95a5-3f6eecd92e0f",
   "metadata": {},
   "outputs": [],
   "source": [
    "# Сохраняем отфильтрованные и отсортированные данные в новый Excel файл:\n",
    "df.to_excel('../data/processed/analiz.xlsx', index=False)"
   ]
  },
  {
   "cell_type": "code",
   "execution_count": null,
   "id": "6aa5078b-a7a2-40a2-bd0d-ed7493974b49",
   "metadata": {},
   "outputs": [],
   "source": []
  }
 ],
 "metadata": {
  "kernelspec": {
   "display_name": "Python 3 (ipykernel)",
   "language": "python",
   "name": "python3"
  },
  "language_info": {
   "codemirror_mode": {
    "name": "ipython",
    "version": 3
   },
   "file_extension": ".py",
   "mimetype": "text/x-python",
   "name": "python",
   "nbconvert_exporter": "python",
   "pygments_lexer": "ipython3",
   "version": "3.11.8"
  }
 },
 "nbformat": 4,
 "nbformat_minor": 5
}
